{
  "nbformat": 4,
  "nbformat_minor": 0,
  "metadata": {
    "colab": {
      "provenance": [],
      "authorship_tag": "ABX9TyNZ1Pip+zKpBwInhaYw3pUr",
      "include_colab_link": true
    },
    "kernelspec": {
      "name": "python3",
      "display_name": "Python 3"
    },
    "language_info": {
      "name": "python"
    }
  },
  "cells": [
    {
      "cell_type": "markdown",
      "metadata": {
        "id": "view-in-github",
        "colab_type": "text"
      },
      "source": [
        "<a href=\"https://colab.research.google.com/github/qhansen628/Predictive-Vision-Model-Experiments/blob/main/recurrent_attention_model.ipynb\" target=\"_parent\"><img src=\"https://colab.research.google.com/assets/colab-badge.svg\" alt=\"Open In Colab\"/></a>"
      ]
    },
    {
      "cell_type": "markdown",
      "source": [
        "# Model Description\n",
        "\n",
        "-input:\n",
        "- Image patch location\n",
        "- Image patch flattened\n",
        "\n",
        "output:\n",
        "- classification label prediction (y_hat)\n",
        "- next location choice (x_loc)\n",
        "- next location patch prediction (image_patch prediction)\n",
        "- hidden activations"
      ],
      "metadata": {
        "id": "nGBJKajDdlEQ"
      }
    },
    {
      "cell_type": "markdown",
      "source": [
        "# fuck it we do step at a time\n",
        "\n",
        "Reconstruction network:\n",
        "- given predefined sequence of patches\n",
        "- RNN output reconstructed entire image x at each timestep\n",
        "\n",
        "Idea:\n",
        "-"
      ],
      "metadata": {
        "id": "SZY2ovpXO3xJ"
      }
    },
    {
      "cell_type": "code",
      "source": [
        "import tensorflow as tf\n",
        "import numpy as np\n",
        "import matplotlib.pyplot as plt\n",
        "\n",
        "def extract_and_shuffle_patches(images, patch_size, stride):\n",
        "    batch_size, height, width, channels = images.shape\n",
        "    patches = tf.image.extract_patches(\n",
        "        images=images,\n",
        "        sizes=[1, patch_size, patch_size, 1],\n",
        "        strides=[1, stride, stride, 1],\n",
        "        rates=[1, 1, 1, 1],\n",
        "        padding='SAME'\n",
        "    )\n",
        "    # Calculate number of patches and reshape to (batch_size, num_patches, patch_size*patch_size*channels)\n",
        "    num_patches_per_row = (height + stride - 1) // stride\n",
        "    num_patches_per_col = (width + stride - 1) // stride\n",
        "    num_patches = num_patches_per_row * num_patches_per_col\n",
        "    patches = tf.reshape(patches, [batch_size, num_patches, patch_size * patch_size * channels])\n",
        "\n",
        "    # Ensure patches are float32 if needed (commonly images are in float32)\n",
        "    patches = tf.cast(patches, tf.float32)\n",
        "\n",
        "    # Prepare positions and duplicate\n",
        "    positions = tf.eye(num_patches, dtype=tf.float32)  # One-hot encoding of positions\n",
        "\n",
        "    # Duplicate patches and positions\n",
        "    patches_doubled = tf.concat([patches, patches], axis=1)\n",
        "    positions_doubled = tf.concat([positions, positions], axis=0)\n",
        "\n",
        "    # Shuffle patches and positions within each batch\n",
        "    shuffled_indices = tf.map_fn(lambda x: tf.random.shuffle(tf.range(2 * num_patches)), tf.range(batch_size), dtype=tf.int32)\n",
        "    shuffled_patches = tf.gather(patches_doubled, shuffled_indices, batch_dims=1)\n",
        "    shuffled_positions = tf.gather(positions_doubled, shuffled_indices, axis=0)\n",
        "\n",
        "    # Concatenate patches with positions\n",
        "    full_inputs = tf.concat([shuffled_patches, shuffled_positions], axis=2)\n",
        "    #full_inputs = tf.concat([patches_doubled, positions_doubled], axis=2)\n",
        "\n",
        "    return full_inputs, shuffled_positions, shuffled_indices\n",
        "\n",
        "# Example usage with MNIST\n",
        "(x_train, _), (_, _) = tf.keras.datasets.mnist.load_data()\n",
        "x_train = x_train / 255.0  # Normalize\n",
        "x_train = x_train[..., tf.newaxis]  # Add channel dimension\n",
        "\n",
        "# Extract patches\n",
        "patch_size = 4\n",
        "stride = 4\n",
        "inputs, positions, indices = extract_and_shuffle_patches(x_train[:10], patch_size, stride)\n",
        "\n",
        "print(f\"Input shape: {inputs.shape}\")  # Should show a reduced sequence length\n",
        "\n"
      ],
      "metadata": {
        "colab": {
          "base_uri": "https://localhost:8080/"
        },
        "id": "qEpR2oFUx_gd",
        "outputId": "4e5c22dc-14d1-4ad3-bd9d-10544522bbb3"
      },
      "execution_count": null,
      "outputs": [
        {
          "output_type": "stream",
          "name": "stdout",
          "text": [
            "Input shape: (10, 98, 65)\n"
          ]
        }
      ]
    },
    {
      "cell_type": "code",
      "source": [
        "class ImageReconstructionRNN(tf.keras.Model):\n",
        "    def __init__(self, patch_size, stride, input_dim, units, output_size):\n",
        "        super().__init__()\n",
        "        self.rnn = tf.keras.layers.SimpleRNN(units, return_sequences=False)\n",
        "        self.dense0 = tf.keras.layers.Dense(output_size//2, activation='relu')\n",
        "        self.dense = tf.keras.layers.Dense(output_size, activation='relu')  # Assuming normalized images\n",
        "\n",
        "    def call(self, inputs):\n",
        "        rnn_output = self.rnn(inputs)\n",
        "        l2 = self.dense0(rnn_output)\n",
        "        reconstructed_image = self.dense(l2)\n",
        "        return reconstructed_image\n",
        "\n",
        "# Initialize the model\n",
        "image_height, image_width = 28, 28  # For example, with MNIST\n",
        "patch_size = 4\n",
        "stride = 4\n",
        "units = 128\n",
        "output_size = image_height * image_width  # Flattened image reconstruction\n",
        "\n",
        "model = ImageReconstructionRNN(patch_size, stride, patch_size**2, units, output_size)\n"
      ],
      "metadata": {
        "id": "buLg92pxwNNx"
      },
      "execution_count": null,
      "outputs": []
    },
    {
      "cell_type": "markdown",
      "source": [
        "Idea:\n",
        "\n",
        "have an rnn model recieve a sequence of patches/patch locations.\n",
        "\n",
        "Reconstruct entire image from context vector. not each patch separately...\n",
        "\n",
        "this reconstructed"
      ],
      "metadata": {
        "id": "lMKGeWRryMCt"
      }
    },
    {
      "cell_type": "code",
      "execution_count": null,
      "metadata": {
        "colab": {
          "base_uri": "https://localhost:8080/",
          "height": 398
        },
        "id": "NLWTAh5Ede2N",
        "outputId": "d639c34a-5dd6-4ed4-fcac-e5c467ce37d8"
      },
      "outputs": [
        {
          "output_type": "stream",
          "name": "stdout",
          "text": [
            "Epoch 1/10\n",
            "Training loss (for one batch): 0.0798\n",
            "1/1 [==============================] - 0s 28ms/step\n"
          ]
        },
        {
          "output_type": "display_data",
          "data": {
            "text/plain": [
              "<Figure size 640x480 with 10 Axes>"
            ],
            "image/png": "[encoded data removed]"
          },
          "metadata": {}
        }
      ],
      "source": [
        "import tensorflow as tf\n",
        "import matplotlib.pyplot as plt\n",
        "import numpy as np\n",
        "\n",
        "# Assuming you have a model defined as 'model' which takes input of shape [None, patch_size**2 + num_patches]\n",
        "# and outputs the reconstructed image flattened.\n",
        "\n",
        "# Assuming 'extract_and_shuffle_patches' function is defined correctly as discussed before\n",
        "# Initialize the model\n",
        "\n",
        "# image_height, image_width = 28, 28  # For example, with MNIST\n",
        "# patch_size = 4\n",
        "# stride = 4\n",
        "# units = 64\n",
        "# output_size = image_height * image_width  # Flattened image reconstruction\n",
        "\n",
        "# model = ImageReconstructionRNN(patch_size, stride, patch_size**2, units, output_size)\n",
        "# Prepare dataset\n",
        "(x_train, _), (x_test, _) = tf.keras.datasets.mnist.load_data()\n",
        "x_train = x_train.astype('float32') / 255.0\n",
        "x_train = np.expand_dims(x_train, axis=-1)  # Add channel dimension\n",
        "\n",
        "# Extract and shuffle patches for the first batch as an example\n",
        "patch_size = 4\n",
        "stride = 4\n",
        "num_patches = (28 // stride) * (28 // stride)\n",
        "train_patches = extract_and_shuffle_patches(x_train[:32], patch_size, stride)\n",
        "\n",
        "# Prepare the target images (flattened)\n",
        "train_targets = x_train[:32].reshape(32, -1)  # Flatten the images\n",
        "\n",
        "# Define loss and optimizer\n",
        "loss_fn = tf.keras.losses.MeanSquaredError()\n",
        "optimizer = tf.keras.optimizers.Adam()\n",
        "\n",
        "# Training loop\n",
        "epochs = 10\n",
        "for epoch in range(epochs):\n",
        "    if epoch%10 == 0:  print(f'Epoch {epoch+1}/{epochs}')\n",
        "    with tf.GradientTape() as tape:\n",
        "        # Forward pass through the model\n",
        "        predictions = model(train_patches)\n",
        "        # Compute the loss value\n",
        "        loss_value = loss_fn(train_targets, predictions)\n",
        "\n",
        "    # Use the gradient tape to automatically retrieve the gradients of the trainable variables with respect to the loss\n",
        "    grads = tape.gradient(loss_value, model.trainable_variables)\n",
        "\n",
        "    # Run one step of gradient descent by updating the value of the variables to minimize the loss\n",
        "    optimizer.apply_gradients(zip(grads, model.trainable_variables))\n",
        "\n",
        "    # Log every epoch\n",
        "    if epoch%10 == 0: print(f\"Training loss (for one batch): {loss_value.numpy():.4f}\")\n",
        "\n",
        "# After training, you can visualize some reconstructed images\n",
        "predicted_images = model.predict(train_patches)\n",
        "num_images_to_show = 5\n",
        "\n",
        "for i in range(num_images_to_show):\n",
        "    # Original Image\n",
        "    plt.subplot(2, num_images_to_show, i + 1)\n",
        "    plt.imshow(x_train[i].squeeze(), cmap='gray')\n",
        "    plt.title(\"Original\")\n",
        "    plt.axis('off')\n",
        "\n",
        "    # Reconstructed Image\n",
        "    plt.subplot(2, num_images_to_show, num_images_to_show + i + 1)\n",
        "    plt.imshow(predicted_images[i].reshape(28, 28), cmap='gray')\n",
        "    plt.title(\"Reconstructed\")\n",
        "    plt.axis('off')\n",
        "\n",
        "plt.show()\n"
      ]
    },
    {
      "cell_type": "markdown",
      "source": [
        "Set mask to 0"
      ],
      "metadata": {
        "id": "bxGNVJKlnb7t"
      }
    },
    {
      "cell_type": "code",
      "source": [
        "import tensorflow as tf\n",
        "import numpy as np\n",
        "\n",
        "def extract_and_shuffle_patches(images, patch_size, stride, mask=0):\n",
        "    batch_size, height, width, channels = images.shape\n",
        "    patches = tf.image.extract_patches(\n",
        "        images=images,\n",
        "        sizes=[1, patch_size, patch_size, 1],\n",
        "        strides=[1, stride, stride, 1],\n",
        "        rates=[1, 1, 1, 1],\n",
        "        padding='SAME'\n",
        "    )\n",
        "    # Calculate number of patches and reshape to (batch_size, num_patches, patch_features)\n",
        "    num_patches = (height // stride) * (width // stride)\n",
        "    patch_features = patch_size * patch_size * channels\n",
        "    patches = tf.reshape(patches, [batch_size, num_patches, patch_features])\n",
        "\n",
        "    # Create a one-hot encoded positions matrix\n",
        "    positions = tf.eye(num_patches, dtype=patches.dtype)  # One-hot encoding of positions\n",
        "    positions = tf.tile(positions[tf.newaxis, :, :], [batch_size, 1, 1])  # Expand to batch size\n",
        "\n",
        "    # Concatenate patches with positions\n",
        "    full_inputs = tf.concat([patches, positions], axis=-1)\n",
        "\n",
        "    # Shuffle patches and positions within each batch\n",
        "    shuffled_inputs = tf.map_fn(tf.random.shuffle, full_inputs)\n",
        "\n",
        "    # Determine how many patches to keep based on the mask percentage\n",
        "    num_patches_to_keep = num_patches - int(num_patches * mask / 100)\n",
        "\n",
        "    # Select a subset of patch-position pairs for each image in the batch\n",
        "    reduced_inputs = shuffled_inputs[:, :num_patches_to_keep, :]\n",
        "\n",
        "    return reduced_inputs\n",
        "\n",
        "# Example usage with MNIST\n",
        "(x_train, _), (_, _) = tf.keras.datasets.mnist.load_data()\n",
        "x_train = x_train.astype('float32') / 255.0\n",
        "x_train = np.expand_dims(x_train, axis=-1)  # Add channel dimension\n",
        "\n",
        "# Extract patches with a 50% mask\n",
        "patch_size = 4\n",
        "stride = 4\n",
        "mask = 60  # Mask 50% of the patches\n",
        "inputs = extract_and_shuffle_patches(x_train[:10], patch_size, stride, mask)\n",
        "\n",
        "print(f\"Input shape: {inputs.shape}\")  # Should show a reduced sequence length\n"
      ],
      "metadata": {
        "id": "oTkX3h_BZxBR",
        "colab": {
          "base_uri": "https://localhost:8080/"
        },
        "outputId": "589cba61-e721-45e2-c989-8ab9c53c9565"
      },
      "execution_count": null,
      "outputs": [
        {
          "output_type": "stream",
          "name": "stdout",
          "text": [
            "Input shape: (10, 20, 65)\n"
          ]
        }
      ]
    },
    {
      "cell_type": "code",
      "source": [
        "import tensorflow as tf\n",
        "import matplotlib.pyplot as plt\n",
        "import numpy as np\n",
        "\n",
        "# Assuming 'extract_and_shuffle_patches' and 'ImageReconstructionRNN' are defined as discussed\n",
        "# Prepare dataset\n",
        "(x_train, _), (x_test, _) = tf.keras.datasets.mnist.load_data()\n",
        "x_train, x_test = x_train.astype('float32') / 255.0, x_test.astype('float32') / 255.0\n",
        "x_train, x_test = np.expand_dims(x_train, axis=-1), np.expand_dims(x_test, axis=-1)\n",
        "\n",
        "# Extract and shuffle patches for training\n",
        "train_patches= extract_and_shuffle_patches(x_train, patch_size, stride)\n",
        "train_targets = x_train.reshape(-1, image_height * image_width)\n",
        "\n",
        "# Initialize the model\n",
        "model = ImageReconstructionRNN(patch_size, stride, patch_size**2 + num_patches, units, output_size)\n",
        "model.compile(optimizer='adam', loss='mean_squared_error')\n",
        "\n",
        "# Training loop\n",
        "epochs = 100\n",
        "for epoch in range(epochs):\n",
        "    # Training\n",
        "    model.fit(train_patches, train_targets, epochs=1, verbose=0)\n",
        "    if epoch % 10 == 0:\n",
        "        print(f'Epoch {epoch + 1}/{epochs}')\n",
        "\n",
        "# Visualization after training\n",
        "num_images_to_show = 5\n",
        "test_indices = np.random.choice(x_test.shape[0], num_images_to_show, replace=False)\n",
        "test_patches, _, _ = extract_and_shuffle_patches(x_test[test_indices], patch_size, stride)\n",
        "\n",
        "predicted_images = model.predict(test_patches)\n",
        "\n",
        "# Plotting\n",
        "plt.figure(figsize=(10, 4))\n",
        "for i in range(num_images_to_show):\n",
        "    # Original Image\n",
        "    plt.subplot(2, num_images_to_show, i + 1)\n",
        "    plt.imshow(x_test[test_indices[i]].squeeze(), cmap='gray')\n",
        "    plt.title(\"Original\")\n",
        "    plt.axis('off')\n",
        "\n",
        "    # Reconstructed Image\n",
        "    plt.subplot(2, num_images_to_show, num_images_to_show + i + 1)\n",
        "    plt.imshow(predicted_images[i].reshape(28, 28), cmap='gray')\n",
        "    plt.title(\"Reconstructed\")\n",
        "    plt.axis('off')\n",
        "\n",
        "plt.show()\n"
      ],
      "metadata": {
        "colab": {
          "base_uri": "https://localhost:8080/"
        },
        "id": "4HexgZXybpnu",
        "outputId": "eb3df9d1-d80d-431a-9b05-1c559ad59cc2"
      },
      "execution_count": null,
      "outputs": [
        {
          "output_type": "stream",
          "name": "stdout",
          "text": [
            "Epoch 1/100\n",
            "Epoch 11/100\n",
            "Epoch 21/100\n",
            "Epoch 31/100\n",
            "Epoch 41/100\n",
            "Epoch 51/100\n",
            "Epoch 61/100\n",
            "Epoch 71/100\n",
            "Epoch 81/100\n",
            "Epoch 91/100\n"
          ]
        },
        {
          "output_type": "error",
          "ename": "ValueError",
          "evalue": "too many values to unpack (expected 3)",
          "traceback": [
            "\u001b[0;31m---------------------------------------------------------------------------\u001b[0m",
            "\u001b[0;31mValueError\u001b[0m                                Traceback (most recent call last)",
            "\u001b[0;32m<ipython-input-67-6bffac657176>\u001b[0m in \u001b[0;36m<cell line: 30>\u001b[0;34m()\u001b[0m\n\u001b[1;32m     28\u001b[0m \u001b[0mnum_images_to_show\u001b[0m \u001b[0;34m=\u001b[0m \u001b[0;36m5\u001b[0m\u001b[0;34m\u001b[0m\u001b[0;34m\u001b[0m\u001b[0m\n\u001b[1;32m     29\u001b[0m \u001b[0mtest_indices\u001b[0m \u001b[0;34m=\u001b[0m \u001b[0mnp\u001b[0m\u001b[0;34m.\u001b[0m\u001b[0mrandom\u001b[0m\u001b[0;34m.\u001b[0m\u001b[0mchoice\u001b[0m\u001b[0;34m(\u001b[0m\u001b[0mx_test\u001b[0m\u001b[0;34m.\u001b[0m\u001b[0mshape\u001b[0m\u001b[0;34m[\u001b[0m\u001b[0;36m0\u001b[0m\u001b[0;34m]\u001b[0m\u001b[0;34m,\u001b[0m \u001b[0mnum_images_to_show\u001b[0m\u001b[0;34m,\u001b[0m \u001b[0mreplace\u001b[0m\u001b[0;34m=\u001b[0m\u001b[0;32mFalse\u001b[0m\u001b[0;34m)\u001b[0m\u001b[0;34m\u001b[0m\u001b[0;34m\u001b[0m\u001b[0m\n\u001b[0;32m---> 30\u001b[0;31m \u001b[0mtest_patches\u001b[0m\u001b[0;34m,\u001b[0m \u001b[0m_\u001b[0m\u001b[0;34m,\u001b[0m \u001b[0m_\u001b[0m \u001b[0;34m=\u001b[0m \u001b[0mextract_and_shuffle_patches\u001b[0m\u001b[0;34m(\u001b[0m\u001b[0mx_test\u001b[0m\u001b[0;34m[\u001b[0m\u001b[0mtest_indices\u001b[0m\u001b[0;34m]\u001b[0m\u001b[0;34m,\u001b[0m \u001b[0mpatch_size\u001b[0m\u001b[0;34m,\u001b[0m \u001b[0mstride\u001b[0m\u001b[0;34m)\u001b[0m\u001b[0;34m\u001b[0m\u001b[0;34m\u001b[0m\u001b[0m\n\u001b[0m\u001b[1;32m     31\u001b[0m \u001b[0;34m\u001b[0m\u001b[0m\n\u001b[1;32m     32\u001b[0m \u001b[0mpredicted_images\u001b[0m \u001b[0;34m=\u001b[0m \u001b[0mmodel\u001b[0m\u001b[0;34m.\u001b[0m\u001b[0mpredict\u001b[0m\u001b[0;34m(\u001b[0m\u001b[0mtest_patches\u001b[0m\u001b[0;34m)\u001b[0m\u001b[0;34m\u001b[0m\u001b[0;34m\u001b[0m\u001b[0m\n",
            "\u001b[0;31mValueError\u001b[0m: too many values to unpack (expected 3)"
          ]
        }
      ]
    },
    {
      "cell_type": "code",
      "source": [],
      "metadata": {
        "id": "8m1Wer2j8VEt"
      },
      "execution_count": null,
      "outputs": []
    }
  ]
}